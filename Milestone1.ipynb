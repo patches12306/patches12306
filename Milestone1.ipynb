{
 "cells": [
  {
   "cell_type": "markdown",
   "metadata": {},
   "source": [
    "# Link: https://patches12306.github.io/patches12306/\n"
   ]
  },
  {
   "cell_type": "markdown",
   "metadata": {},
   "source": [
    "## Garrett Van Beek\n",
    "## Ben Nguyen\n",
    "## Intro to Data Science\n",
    "## Professor Nick Mattei"
   ]
  },
  {
   "cell_type": "markdown",
   "metadata": {},
   "source": [
    "# Final Tutorial Milestone 1: “Can you Google the stock market?\""
   ]
  },
  {
   "cell_type": "markdown",
   "metadata": {},
   "source": [
    "For our project we plan to collect data on search traffic from Google and Twitter and see how that data correlates with the performances of certain publicly traded stocks. For example, one question we would like to ask is “how does the search traffic about clean energy sources correlate with the performance of clean energy stocks?”. We would also like to see how the sentiment about certain topics correlates to their stock. For this, we plan to use a python library Twitter Sentiment Analysis or Tweepy. This tool gives us a sentiment rating that we can compare to our stock’s performance. We will most likely analyze our data as line graphs. This way we can see how stock performance, search traffic, and sentiment change over time. Consequently, we hope to find correlations and gain insight on the data.\n",
    "\n",
    "We hope to tackle topics that are a bit more controversial or nuanced than clean energy. Some of the questions that we have thought of asking are: “How does search traffic on sex scandals within companies correlate to the stocks of the companies?” We can also observe the effects of influencers like Donald Trump or Kanye West have on the stock market. We can observe their twitter comments about certain topics and then observe how stocks relating to these topic’s perform. Another angle we can observe is how the general sentiment on topics will correlate to related stocks. For example, we can ask “How does the sentiment about Elon Musk correlate to the stock performance of TESLA?”\n",
    "\n",
    "For our information on stock performance we plan on scraping or downloading data from Yahoo Finance, which contains a barrage of data on publicly traded stocks. Links to the datasets, tools, and websites we plan to use are provided below.\n",
    "\n",
    "https://trends.google.com/trends/?geo=US https://www.tweepy.org/ https://github.com/shaypal5/awesome-twitter-data https://finance.yahoo.com/\n",
    "\n",
    "tutorial project for datascience"
   ]
  },
  {
   "cell_type": "markdown",
   "metadata": {},
   "source": [
    "# Final Tutorial Milestone 2\n",
    "\n",
    "## Questions\n",
    "Our overall goal is to determine \"Can we google the stock market?\" By this we mean \"can we find correlations between google search trends/twitter activity on certain topics and the performance of stocks related to those topics?\"\n",
    "\n",
    "This is a very general questions so we will answer two specific questions based on our search history. \n",
    "\n",
    "### 1. How does Elon Musk's Twitter activity correlate to the stock performance of Tesla. How do search trends on Elon Musk correlate to the performance of Tesla Stock?\n",
    "Note: we are currently waiting for authorization to use Twitter's Tweepy API. Until then, we will be using google trend data from Google Trends."
   ]
  },
  {
   "cell_type": "markdown",
   "metadata": {},
   "source": [
    "#### Step One: Get the Data\n",
    "We download google search data as CSVs. Our goal is to create a DataFrame where every day is a row, and the columns are:\n",
    "1. Search trends of Elon Musk\n",
    "2. Performance of TESLA Stock\n",
    "3. Performance of PAYPAL Stock\n",
    "\n",
    "Our timeframe for these questions will be 2016-2018"
   ]
  },
  {
   "cell_type": "code",
   "execution_count": 122,
   "metadata": {},
   "outputs": [],
   "source": [
    "#Import Statements\n",
    "import pandas as pd\n",
    "import re\n",
    "import datetime\n",
    "# from datetime import timedelta"
   ]
  },
  {
   "cell_type": "code",
   "execution_count": 131,
   "metadata": {
    "scrolled": true
   },
   "outputs": [
    {
     "data": {
      "text/html": [
       "<div>\n",
       "<style scoped>\n",
       "    .dataframe tbody tr th:only-of-type {\n",
       "        vertical-align: middle;\n",
       "    }\n",
       "\n",
       "    .dataframe tbody tr th {\n",
       "        vertical-align: top;\n",
       "    }\n",
       "\n",
       "    .dataframe thead th {\n",
       "        text-align: right;\n",
       "    }\n",
       "</style>\n",
       "<table border=\"1\" class=\"dataframe\">\n",
       "  <thead>\n",
       "    <tr style=\"text-align: right;\">\n",
       "      <th></th>\n",
       "      <th>Date</th>\n",
       "      <th>Close_t</th>\n",
       "      <th>Close_p</th>\n",
       "      <th>elon musk: (United States)</th>\n",
       "    </tr>\n",
       "  </thead>\n",
       "  <tbody>\n",
       "    <tr>\n",
       "      <td>0</td>\n",
       "      <td>2016-01-04</td>\n",
       "      <td>223.410004</td>\n",
       "      <td>34.750000</td>\n",
       "      <td>4.0</td>\n",
       "    </tr>\n",
       "    <tr>\n",
       "      <td>1</td>\n",
       "      <td>2016-01-05</td>\n",
       "      <td>223.429993</td>\n",
       "      <td>34.310001</td>\n",
       "      <td>NaN</td>\n",
       "    </tr>\n",
       "    <tr>\n",
       "      <td>2</td>\n",
       "      <td>2016-01-06</td>\n",
       "      <td>219.039993</td>\n",
       "      <td>33.980000</td>\n",
       "      <td>NaN</td>\n",
       "    </tr>\n",
       "    <tr>\n",
       "      <td>3</td>\n",
       "      <td>2016-01-07</td>\n",
       "      <td>215.649994</td>\n",
       "      <td>33.130001</td>\n",
       "      <td>NaN</td>\n",
       "    </tr>\n",
       "    <tr>\n",
       "      <td>4</td>\n",
       "      <td>2016-01-08</td>\n",
       "      <td>211.000000</td>\n",
       "      <td>32.689999</td>\n",
       "      <td>NaN</td>\n",
       "    </tr>\n",
       "    <tr>\n",
       "      <td>...</td>\n",
       "      <td>...</td>\n",
       "      <td>...</td>\n",
       "      <td>...</td>\n",
       "      <td>...</td>\n",
       "    </tr>\n",
       "    <tr>\n",
       "      <td>749</td>\n",
       "      <td>2018-12-24</td>\n",
       "      <td>295.390015</td>\n",
       "      <td>77.059998</td>\n",
       "      <td>15.0</td>\n",
       "    </tr>\n",
       "    <tr>\n",
       "      <td>750</td>\n",
       "      <td>2018-12-26</td>\n",
       "      <td>326.089996</td>\n",
       "      <td>82.800003</td>\n",
       "      <td>NaN</td>\n",
       "    </tr>\n",
       "    <tr>\n",
       "      <td>751</td>\n",
       "      <td>2018-12-27</td>\n",
       "      <td>316.130005</td>\n",
       "      <td>84.309998</td>\n",
       "      <td>NaN</td>\n",
       "    </tr>\n",
       "    <tr>\n",
       "      <td>752</td>\n",
       "      <td>2018-12-28</td>\n",
       "      <td>333.869995</td>\n",
       "      <td>83.260002</td>\n",
       "      <td>NaN</td>\n",
       "    </tr>\n",
       "    <tr>\n",
       "      <td>753</td>\n",
       "      <td>2018-12-31</td>\n",
       "      <td>332.799988</td>\n",
       "      <td>84.089996</td>\n",
       "      <td>15.0</td>\n",
       "    </tr>\n",
       "  </tbody>\n",
       "</table>\n",
       "<p>754 rows × 4 columns</p>\n",
       "</div>"
      ],
      "text/plain": [
       "           Date     Close_t    Close_p  elon musk: (United States)\n",
       "0    2016-01-04  223.410004  34.750000                         4.0\n",
       "1    2016-01-05  223.429993  34.310001                         NaN\n",
       "2    2016-01-06  219.039993  33.980000                         NaN\n",
       "3    2016-01-07  215.649994  33.130001                         NaN\n",
       "4    2016-01-08  211.000000  32.689999                         NaN\n",
       "..          ...         ...        ...                         ...\n",
       "749  2018-12-24  295.390015  77.059998                        15.0\n",
       "750  2018-12-26  326.089996  82.800003                         NaN\n",
       "751  2018-12-27  316.130005  84.309998                         NaN\n",
       "752  2018-12-28  333.869995  83.260002                         NaN\n",
       "753  2018-12-31  332.799988  84.089996                        15.0\n",
       "\n",
       "[754 rows x 4 columns]"
      ]
     },
     "execution_count": 131,
     "metadata": {},
     "output_type": "execute_result"
    }
   ],
   "source": [
    "#Read csv into dataframe\n",
    "tesla_df = pd.read_csv('./data/tesla2016-2018.csv')\n",
    "paypal_df = pd.read_csv('./data/paypal2016-2018.csv')\n",
    "elon_df = pd.read_csv('./data/elon2016-2018.csv')\n",
    "\n",
    "#Turn date strings into datetime objects.\n",
    "dateTimeList = []\n",
    "for d in elon_df['Week']:\n",
    "    date = re.split('/', d)\n",
    "    dateObject = datetime.datetime(\n",
    "        int(date[2]),\n",
    "        int(date[0]),\n",
    "        int(date[1]))\n",
    "    # Increase the day by one so that it lines up with the date in the other data frames.\n",
    "    dateTimeList.append(dateObject + datetime.timedelta(days=1))\n",
    "elon_df['Date_time'] = dateTimeList\n",
    "\n",
    "stringArray = []\n",
    "for d in elon_df['Date_time']:\n",
    "    date_as_string = d.isoformat()\n",
    "    stringArray.append(date_as_string[0:10])\n",
    "elon_df['Date'] = stringArray\n",
    "\n",
    "# Merge the three data frames\n",
    "joined_df = pd.merge(tesla_df, paypal_df, on=\"Date\", how=\"inner\", suffixes=('_t','_p'))\n",
    "complete_df = pd.merge(joined_df, elon_df, on=\"Date\", how=\"left\")\n",
    "\n",
    "# filter the data so the only columns are date, closing price of tesla and paypal\n",
    "slim_df = complete_df[[\"Date\", \"Close_t\", \"Close_p\", \"elon musk: (United States)\"]]\n",
    "slim_df\n",
    "\n",
    "# TODO: Rename the columns\n"
   ]
  },
  {
   "cell_type": "code",
   "execution_count": null,
   "metadata": {},
   "outputs": [],
   "source": []
  },
  {
   "cell_type": "code",
   "execution_count": null,
   "metadata": {},
   "outputs": [],
   "source": []
  }
 ],
 "metadata": {
  "kernelspec": {
   "display_name": "Python 3",
   "language": "python",
   "name": "python3"
  },
  "language_info": {
   "codemirror_mode": {
    "name": "ipython",
    "version": 3
   },
   "file_extension": ".py",
   "mimetype": "text/x-python",
   "name": "python",
   "nbconvert_exporter": "python",
   "pygments_lexer": "ipython3",
   "version": "3.7.3"
  }
 },
 "nbformat": 4,
 "nbformat_minor": 2
}
