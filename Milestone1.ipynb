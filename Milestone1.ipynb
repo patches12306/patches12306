{
 "cells": [
  {
   "cell_type": "markdown",
   "metadata": {},
   "source": [
    "# Link: https://patches12306.github.io/patches12306/\n"
   ]
  },
  {
   "cell_type": "markdown",
   "metadata": {},
   "source": [
    "### Garrett Van Beek\n",
    "### Ben Nguyen\n",
    "### Intro to Data Science\n",
    "### Professor Nick Mattei"
   ]
  },
  {
   "cell_type": "markdown",
   "metadata": {},
   "source": [
    "# Final Tutorial Milestone 1: “Can you Google the stock market?\""
   ]
  },
  {
   "cell_type": "markdown",
   "metadata": {},
   "source": [
    "For our project we plan to collect data on search traffic from Google and Twitter and see how that data correlates with the performances of certain publicly traded stocks. For example, one question we would like to ask is “how does the search traffic about clean energy sources correlate with the performance of clean energy stocks?”. We would also like to see how the sentiment about certain topics correlates to their stock. For this, we plan to use a python library Twitter Sentiment Analysis or Tweepy. This tool gives us a sentiment rating that we can compare to our stock’s performance. We will most likely analyze our data as line graphs. This way we can see how stock performance, search traffic, and sentiment change over time. Consequently, we hope to find correlations and gain insight on the data.\n",
    "\n",
    "We hope to tackle topics that are a bit more controversial or nuanced than clean energy. Some of the questions that we have thought of asking are: “How does search traffic on sex scandals within companies correlate to the stocks of the companies?” We can also observe the effects of influencers like Donald Trump or Kanye West have on the stock market. We can observe their twitter comments about certain topics and then observe how stocks relating to these topic’s perform. Another angle we can observe is how the general sentiment on topics will correlate to related stocks. For example, we can ask “How does the sentiment about Elon Musk correlate to the stock performance of TESLA?”\n",
    "\n",
    "For our information on stock performance we plan on scraping or downloading data from Yahoo Finance, which contains a barrage of data on publicly traded stocks. Links to the datasets, tools, and websites we plan to use are provided below.\n",
    "\n",
    "https://trends.google.com/trends/?geo=US https://www.tweepy.org/ https://github.com/shaypal5/awesome-twitter-data https://finance.yahoo.com/\n",
    "\n",
    "tutorial project for datascience"
   ]
  },
  {
   "cell_type": "markdown",
   "metadata": {},
   "source": [
    "# Final Tutorial Milestone 2\n",
    "\n",
    "## Questions\n",
    "Our overall goal is to determine \"Can we google the stock market?\" By this we mean \"can we find correlations between google search trends/twitter activity on certain topics and the performance of stocks related to those topics?\"\n",
    "\n",
    "This is a very general questions so we will answer two specific questions based on our search history. \n",
    "\n",
    "### 1. How does Elon Musk's Twitter activity correlate to the stock performance of Tesla. How do search trends on Elon Musk correlate to the performance of Tesla Stock?\n",
    "Note: we are currently waiting for authorization to use Twitter's Tweepy API. Until then, we will be using google trend data from Google Trends."
   ]
  },
  {
   "cell_type": "markdown",
   "metadata": {},
   "source": [
    "#### Step One: Wrangle the Data\n",
    "We downloaded google search, and yahoo finance data as CSVs. Our goal is to create a DataFrame where every day is a row, and the columns are:\n",
    "\n",
    "1. Search trends of Elon Musk (Google)\n",
    "2. Performance of TESLA Stock (Yahoo)\n",
    "3. Performance of PAYPAL Stock (Yahoo)\n",
    "\n",
    "Our timeframe for these questions will be 2016-2018"
   ]
  },
  {
   "cell_type": "code",
   "execution_count": 19,
   "metadata": {},
   "outputs": [],
   "source": [
    "#Import Statements\n",
    "import pandas as pd\n",
    "import re\n",
    "import datetime\n",
    "import statsmodels.api as sm\n",
    "import seaborn as sns"
   ]
  },
  {
   "cell_type": "markdown",
   "metadata": {},
   "source": [
    "### Code Description:\n",
    "First we created 3 dataframes from Tesla and Paypal stock data and Elon Musk Google Search trend data.\n",
    "\n",
    "We then converted the converted the dates in the Google Trends dataframe to datetime objects. Since all our data was collected on Sundays, we rolled every data entry one day forward. This way we could match trend data rows to rows in our stock price tables. (The stock market does not open on Sundays)\n",
    "\n",
    "Next we created a new column where we turned the datetimes back into strings.  We then inner left merged the dataframes on this datetime string column."
   ]
  },
  {
   "cell_type": "code",
   "execution_count": 20,
   "metadata": {
    "scrolled": true
   },
   "outputs": [
    {
     "data": {
      "text/html": [
       "<div>\n",
       "<style scoped>\n",
       "    .dataframe tbody tr th:only-of-type {\n",
       "        vertical-align: middle;\n",
       "    }\n",
       "\n",
       "    .dataframe tbody tr th {\n",
       "        vertical-align: top;\n",
       "    }\n",
       "\n",
       "    .dataframe thead th {\n",
       "        text-align: right;\n",
       "    }\n",
       "</style>\n",
       "<table border=\"1\" class=\"dataframe\">\n",
       "  <thead>\n",
       "    <tr style=\"text-align: right;\">\n",
       "      <th></th>\n",
       "      <th>Date</th>\n",
       "      <th>Tesla_price</th>\n",
       "      <th>Paypal_price</th>\n",
       "      <th>Elon_Musk_Search_Rate</th>\n",
       "    </tr>\n",
       "  </thead>\n",
       "  <tbody>\n",
       "    <tr>\n",
       "      <td>0</td>\n",
       "      <td>2016-01-04</td>\n",
       "      <td>223.410004</td>\n",
       "      <td>34.750000</td>\n",
       "      <td>4.0</td>\n",
       "    </tr>\n",
       "    <tr>\n",
       "      <td>1</td>\n",
       "      <td>2016-01-05</td>\n",
       "      <td>223.429993</td>\n",
       "      <td>34.310001</td>\n",
       "      <td>NaN</td>\n",
       "    </tr>\n",
       "    <tr>\n",
       "      <td>2</td>\n",
       "      <td>2016-01-06</td>\n",
       "      <td>219.039993</td>\n",
       "      <td>33.980000</td>\n",
       "      <td>NaN</td>\n",
       "    </tr>\n",
       "    <tr>\n",
       "      <td>3</td>\n",
       "      <td>2016-01-07</td>\n",
       "      <td>215.649994</td>\n",
       "      <td>33.130001</td>\n",
       "      <td>NaN</td>\n",
       "    </tr>\n",
       "    <tr>\n",
       "      <td>4</td>\n",
       "      <td>2016-01-08</td>\n",
       "      <td>211.000000</td>\n",
       "      <td>32.689999</td>\n",
       "      <td>NaN</td>\n",
       "    </tr>\n",
       "  </tbody>\n",
       "</table>\n",
       "</div>"
      ],
      "text/plain": [
       "         Date  Tesla_price  Paypal_price  Elon_Musk_Search_Rate\n",
       "0  2016-01-04   223.410004     34.750000                    4.0\n",
       "1  2016-01-05   223.429993     34.310001                    NaN\n",
       "2  2016-01-06   219.039993     33.980000                    NaN\n",
       "3  2016-01-07   215.649994     33.130001                    NaN\n",
       "4  2016-01-08   211.000000     32.689999                    NaN"
      ]
     },
     "execution_count": 20,
     "metadata": {},
     "output_type": "execute_result"
    }
   ],
   "source": [
    "#Read csv into dataframe\n",
    "tesla_df = pd.read_csv('./data/tesla2016-2018.csv')\n",
    "paypal_df = pd.read_csv('./data/paypal2016-2018.csv')\n",
    "elon_df = pd.read_csv('./data/elon2016-2018.csv')\n",
    "\n",
    "\n",
    "#Turn date strings into datetime objects.\n",
    "dateTimeList = []\n",
    "for d in elon_df['Week']:\n",
    "    date = re.split('/', d)\n",
    "    dateObject = datetime.datetime(\n",
    "        int(date[2]),\n",
    "        int(date[0]),\n",
    "        int(date[1]))\n",
    "    # Increase the day by one so that it lines up with the date in the other data frames.\n",
    "    dateTimeList.append(dateObject + datetime.timedelta(days=1))\n",
    "elon_df['Date_time'] = dateTimeList\n",
    "\n",
    "# Make a column of date strings to use as a key to merge on.\n",
    "stringArray = []\n",
    "for d in elon_df['Date_time']:\n",
    "    date_as_string = d.isoformat()\n",
    "    stringArray.append(date_as_string[0:10])\n",
    "elon_df['Date'] = stringArray\n",
    "\n",
    "# Merge the three data frames\n",
    "joined_df = pd.merge(tesla_df, paypal_df, on=\"Date\", how=\"inner\", suffixes=('_t','_p'))\n",
    "complete_df = pd.merge(joined_df, elon_df, on=\"Date\", how=\"left\")\n",
    "\n",
    "drop_df = complete_df.drop(columns=['Open_t', 'High_t','Low_t','Adj Close_t','Open_p','High_p','Low_p','Adj Close_p'])\n",
    "\n",
    "# TODO: Rename the columns\n",
    "drop_df = drop_df.rename(columns={\"Close_t\": \"Tesla_price\", \"Volume_t\": \"Tesla_volume\", \"Close_p\":\"Paypal_price\", \n",
    "                        \"Volume_p\":\"Paypal_volume\", \"elon musk: (United States)\": \"Elon_Musk_Search_Rate\"})\n",
    "\n",
    "#drops unecessary columns to show correlatotio between elon musk, tesla price, and paypal price\n",
    "final_df = drop_df.drop(columns =['Tesla_volume','Paypal_volume','Week','Date_time'])\n",
    "\n",
    "# Display the dataframe\n",
    "final_df.head()\n",
    "\n"
   ]
  },
  {
   "cell_type": "markdown",
   "metadata": {},
   "source": [
    "#### Step Two: Standardize the data.\n",
    "Google's trend data was normalized. In order to compare our stock data to google's trend data we must normalize it.\n",
    "\n",
    "$ standardized value = ((individual value) - (mean value)) / standard deviation $\n",
    "\n",
    "In order to easily standardize our data, I first computed the mean of each column. Then, I computed the standard deviation of each column. Finally, I used .apply to apply to standardization formula to our data.\n"
   ]
  },
  {
   "cell_type": "code",
   "execution_count": 21,
   "metadata": {},
   "outputs": [
    {
     "data": {
      "text/html": [
       "<div>\n",
       "<style scoped>\n",
       "    .dataframe tbody tr th:only-of-type {\n",
       "        vertical-align: middle;\n",
       "    }\n",
       "\n",
       "    .dataframe tbody tr th {\n",
       "        vertical-align: top;\n",
       "    }\n",
       "\n",
       "    .dataframe thead th {\n",
       "        text-align: right;\n",
       "    }\n",
       "</style>\n",
       "<table border=\"1\" class=\"dataframe\">\n",
       "  <thead>\n",
       "    <tr style=\"text-align: right;\">\n",
       "      <th></th>\n",
       "      <th>Date</th>\n",
       "      <th>Tesla_price</th>\n",
       "      <th>Paypal_price</th>\n",
       "      <th>Elon_Musk_Search_Rate</th>\n",
       "      <th>stand_Tesla_Price</th>\n",
       "      <th>stand_Paypal_Price</th>\n",
       "      <th>stand_Elon_Search_Rate</th>\n",
       "    </tr>\n",
       "  </thead>\n",
       "  <tbody>\n",
       "    <tr>\n",
       "      <td>0</td>\n",
       "      <td>2016-01-04</td>\n",
       "      <td>223.410004</td>\n",
       "      <td>34.750000</td>\n",
       "      <td>4.0</td>\n",
       "      <td>-0.964026</td>\n",
       "      <td>-1.222538</td>\n",
       "      <td>-0.826748</td>\n",
       "    </tr>\n",
       "    <tr>\n",
       "      <td>1</td>\n",
       "      <td>2016-01-05</td>\n",
       "      <td>223.429993</td>\n",
       "      <td>34.310001</td>\n",
       "      <td>NaN</td>\n",
       "      <td>-0.963687</td>\n",
       "      <td>-1.244830</td>\n",
       "      <td>NaN</td>\n",
       "    </tr>\n",
       "    <tr>\n",
       "      <td>2</td>\n",
       "      <td>2016-01-06</td>\n",
       "      <td>219.039993</td>\n",
       "      <td>33.980000</td>\n",
       "      <td>NaN</td>\n",
       "      <td>-1.037986</td>\n",
       "      <td>-1.261549</td>\n",
       "      <td>NaN</td>\n",
       "    </tr>\n",
       "    <tr>\n",
       "      <td>3</td>\n",
       "      <td>2016-01-07</td>\n",
       "      <td>215.649994</td>\n",
       "      <td>33.130001</td>\n",
       "      <td>NaN</td>\n",
       "      <td>-1.095359</td>\n",
       "      <td>-1.304613</td>\n",
       "      <td>NaN</td>\n",
       "    </tr>\n",
       "    <tr>\n",
       "      <td>4</td>\n",
       "      <td>2016-01-08</td>\n",
       "      <td>211.000000</td>\n",
       "      <td>32.689999</td>\n",
       "      <td>NaN</td>\n",
       "      <td>-1.174058</td>\n",
       "      <td>-1.326905</td>\n",
       "      <td>NaN</td>\n",
       "    </tr>\n",
       "    <tr>\n",
       "      <td>...</td>\n",
       "      <td>...</td>\n",
       "      <td>...</td>\n",
       "      <td>...</td>\n",
       "      <td>...</td>\n",
       "      <td>...</td>\n",
       "      <td>...</td>\n",
       "      <td>...</td>\n",
       "    </tr>\n",
       "    <tr>\n",
       "      <td>749</td>\n",
       "      <td>2018-12-24</td>\n",
       "      <td>295.390015</td>\n",
       "      <td>77.059998</td>\n",
       "      <td>15.0</td>\n",
       "      <td>0.254192</td>\n",
       "      <td>0.921027</td>\n",
       "      <td>0.076866</td>\n",
       "    </tr>\n",
       "    <tr>\n",
       "      <td>750</td>\n",
       "      <td>2018-12-26</td>\n",
       "      <td>326.089996</td>\n",
       "      <td>82.800003</td>\n",
       "      <td>NaN</td>\n",
       "      <td>0.773771</td>\n",
       "      <td>1.211835</td>\n",
       "      <td>NaN</td>\n",
       "    </tr>\n",
       "    <tr>\n",
       "      <td>751</td>\n",
       "      <td>2018-12-27</td>\n",
       "      <td>316.130005</td>\n",
       "      <td>84.309998</td>\n",
       "      <td>NaN</td>\n",
       "      <td>0.605204</td>\n",
       "      <td>1.288336</td>\n",
       "      <td>NaN</td>\n",
       "    </tr>\n",
       "    <tr>\n",
       "      <td>752</td>\n",
       "      <td>2018-12-28</td>\n",
       "      <td>333.869995</td>\n",
       "      <td>83.260002</td>\n",
       "      <td>NaN</td>\n",
       "      <td>0.905443</td>\n",
       "      <td>1.235140</td>\n",
       "      <td>NaN</td>\n",
       "    </tr>\n",
       "    <tr>\n",
       "      <td>753</td>\n",
       "      <td>2018-12-31</td>\n",
       "      <td>332.799988</td>\n",
       "      <td>84.089996</td>\n",
       "      <td>15.0</td>\n",
       "      <td>0.887333</td>\n",
       "      <td>1.277190</td>\n",
       "      <td>0.076866</td>\n",
       "    </tr>\n",
       "  </tbody>\n",
       "</table>\n",
       "<p>754 rows × 7 columns</p>\n",
       "</div>"
      ],
      "text/plain": [
       "           Date  Tesla_price  Paypal_price  Elon_Musk_Search_Rate  \\\n",
       "0    2016-01-04   223.410004     34.750000                    4.0   \n",
       "1    2016-01-05   223.429993     34.310001                    NaN   \n",
       "2    2016-01-06   219.039993     33.980000                    NaN   \n",
       "3    2016-01-07   215.649994     33.130001                    NaN   \n",
       "4    2016-01-08   211.000000     32.689999                    NaN   \n",
       "..          ...          ...           ...                    ...   \n",
       "749  2018-12-24   295.390015     77.059998                   15.0   \n",
       "750  2018-12-26   326.089996     82.800003                    NaN   \n",
       "751  2018-12-27   316.130005     84.309998                    NaN   \n",
       "752  2018-12-28   333.869995     83.260002                    NaN   \n",
       "753  2018-12-31   332.799988     84.089996                   15.0   \n",
       "\n",
       "     stand_Tesla_Price  stand_Paypal_Price  stand_Elon_Search_Rate  \n",
       "0            -0.964026           -1.222538               -0.826748  \n",
       "1            -0.963687           -1.244830                     NaN  \n",
       "2            -1.037986           -1.261549                     NaN  \n",
       "3            -1.095359           -1.304613                     NaN  \n",
       "4            -1.174058           -1.326905                     NaN  \n",
       "..                 ...                 ...                     ...  \n",
       "749           0.254192            0.921027                0.076866  \n",
       "750           0.773771            1.211835                     NaN  \n",
       "751           0.605204            1.288336                     NaN  \n",
       "752           0.905443            1.235140                     NaN  \n",
       "753           0.887333            1.277190                0.076866  \n",
       "\n",
       "[754 rows x 7 columns]"
      ]
     },
     "execution_count": 21,
     "metadata": {},
     "output_type": "execute_result"
    }
   ],
   "source": [
    "# Get the mean Paypal_price and mean Tesla price\n",
    "tsla_mean = final_df[\"Tesla_price\"].mean()\n",
    "pypl_mean = final_df[\"Paypal_price\"].mean()\n",
    "google_mean = final_df[\"Elon_Musk_Search_Rate\"].mean()\n",
    "\n",
    "# Compute the standard deviation for Paypal and Tesla prices.\n",
    "tsla_std = final_df[\"Tesla_price\"].std()\n",
    "pypl_std = final_df[\"Paypal_price\"].std()\n",
    "google_std = final_df[\"Elon_Musk_Search_Rate\"].std()\n",
    "\n",
    "# Define a functions to standardize Paypal Price and Tesla Price\n",
    "def normalize_tesla(tsla_value):\n",
    "    return ((tsla_value - tsla_mean) / (tsla_std))\n",
    "\n",
    "def normalize_pypl(pypl_value):\n",
    "    return ((pypl_value - pypl_mean) / (pypl_std))\n",
    "\n",
    "def normalize_google(google_value):\n",
    "    return ((google_value - google_mean) / (google_std))\n",
    "\n",
    "# Add columns with standardized price\n",
    "final_df[\"stand_Tesla_Price\"] = final_df[\"Tesla_price\"].apply(normalize_tesla)\n",
    "final_df[\"stand_Paypal_Price\"] = final_df[\"Paypal_price\"].apply(normalize_pypl)\n",
    "final_df[\"stand_Elon_Search_Rate\"] = final_df[\"Elon_Musk_Search_Rate\"].apply(normalize_google)\n",
    "\n",
    "final_df"
   ]
  },
  {
   "cell_type": "markdown",
   "metadata": {},
   "source": []
  },
  {
   "cell_type": "markdown",
   "metadata": {},
   "source": [
    "#### Step Three: Visualize the Data\n",
    "Now that we have the data normalized, we will visualize scatter plots with linear regression lines between search trends and stock prices."
   ]
  },
  {
   "cell_type": "code",
   "execution_count": 22,
   "metadata": {},
   "outputs": [
    {
     "data": {
      "text/plain": [
       "<seaborn.axisgrid.JointGrid at 0x7fa35cb8bac8>"
      ]
     },
     "execution_count": 22,
     "metadata": {},
     "output_type": "execute_result"
    },
    {
     "data": {
      "image/png": "[encoded data removed]",
      "text/plain": [
       "<Figure size 432x432 with 3 Axes>"
      ]
     },
     "metadata": {
      "needs_background": "light"
     },
     "output_type": "display_data"
    }
   ],
   "source": [
    "# Display 'Elon Musk' search frequency vs. Tesla Stock Price\n",
    "sns.jointplot(y='stand_Tesla_Price', x='stand_Elon_Search_Rate', data=final_df, kind='reg', joint_kws={'line_kws':{'color':'red'}})"
   ]
  },
  {
   "cell_type": "code",
   "execution_count": 23,
   "metadata": {},
   "outputs": [
    {
     "data": {
      "text/plain": [
       "<seaborn.axisgrid.JointGrid at 0x7fa35ca66f28>"
      ]
     },
     "execution_count": 23,
     "metadata": {},
     "output_type": "execute_result"
    },
    {
     "data": {
      "image/png": "[encoded data removed]",
      "text/plain": [
       "<Figure size 432x432 with 3 Axes>"
      ]
     },
     "metadata": {
      "needs_background": "light"
     },
     "output_type": "display_data"
    }
   ],
   "source": [
    "# Display 'Elon Musk' search frequency vs. Paypal Stock Price\n",
    "sns.jointplot(y='stand_Paypal_Price', x='stand_Elon_Search_Rate', data=final_df, kind='reg', joint_kws={'line_kws':{'color':'red'}})"
   ]
  },
  {
   "cell_type": "markdown",
   "metadata": {},
   "source": [
    "#### Step Four: Compute correlations between the data\n",
    "Let's get the Pearson Correlation Coefficient to see how closely the data is correlated.\n",
    "\n",
    "From here we can see there is a very high correlation between Paypal Price and the search frequency of Elon Musk. Also, there is a positive correlation between Elon Musk search frequency and Tesla price, although, it is not as strong as that of Paypal."
   ]
  },
  {
   "cell_type": "code",
   "execution_count": 24,
   "metadata": {},
   "outputs": [
    {
     "data": {
      "text/html": [
       "<div>\n",
       "<style scoped>\n",
       "    .dataframe tbody tr th:only-of-type {\n",
       "        vertical-align: middle;\n",
       "    }\n",
       "\n",
       "    .dataframe tbody tr th {\n",
       "        vertical-align: top;\n",
       "    }\n",
       "\n",
       "    .dataframe thead th {\n",
       "        text-align: right;\n",
       "    }\n",
       "</style>\n",
       "<table border=\"1\" class=\"dataframe\">\n",
       "  <thead>\n",
       "    <tr style=\"text-align: right;\">\n",
       "      <th></th>\n",
       "      <th>Tesla_price</th>\n",
       "      <th>Paypal_price</th>\n",
       "      <th>Elon_Musk_Search_Rate</th>\n",
       "    </tr>\n",
       "  </thead>\n",
       "  <tbody>\n",
       "    <tr>\n",
       "      <td>Tesla_price</td>\n",
       "      <td>1.000000</td>\n",
       "      <td>0.730257</td>\n",
       "      <td>0.336975</td>\n",
       "    </tr>\n",
       "    <tr>\n",
       "      <td>Paypal_price</td>\n",
       "      <td>0.730257</td>\n",
       "      <td>1.000000</td>\n",
       "      <td>0.582043</td>\n",
       "    </tr>\n",
       "    <tr>\n",
       "      <td>Elon_Musk_Search_Rate</td>\n",
       "      <td>0.336975</td>\n",
       "      <td>0.582043</td>\n",
       "      <td>1.000000</td>\n",
       "    </tr>\n",
       "  </tbody>\n",
       "</table>\n",
       "</div>"
      ],
      "text/plain": [
       "                       Tesla_price  Paypal_price  Elon_Musk_Search_Rate\n",
       "Tesla_price               1.000000      0.730257               0.336975\n",
       "Paypal_price              0.730257      1.000000               0.582043\n",
       "Elon_Musk_Search_Rate     0.336975      0.582043               1.000000"
      ]
     },
     "execution_count": 24,
     "metadata": {},
     "output_type": "execute_result"
    }
   ],
   "source": [
    "#Compute correlations within the data.\n",
    "final_df[[\"Tesla_price\", \"Paypal_price\", \"Elon_Musk_Search_Rate\"]].corr()"
   ]
  },
  {
   "cell_type": "markdown",
   "metadata": {},
   "source": [
    "### TODO: organize our project in a way that reads cleanly:\n",
    "#### Research question:\n",
    "What is a better indicator of stock price Google Trends, Twitter Sentiment/\"viralness\", or Reddit posts?\n",
    "#### Hypothesis:\n",
    "Twitter Sentiment will be the strongest indicator of stock price, because it not only records how strong a public sentiment but it reaches a large demographic. Reddit will be the least strong indicator, because it has a younger demographic and young people invest at lower rates."
   ]
  },
  {
   "cell_type": "markdown",
   "metadata": {},
   "source": [
    "### Setup Tweepy"
   ]
  },
  {
   "cell_type": "code",
   "execution_count": 3,
   "metadata": {},
   "outputs": [],
   "source": [
    "# install tweepy using conda\n",
    "# conda install -c conda-forge tweepy\n",
    "\n",
    "import tweepy\n",
    "\n",
    "my_consumer_key = \"vH6sNgPSLKMnLOLhlefyL4n2o\"\n",
    "my_consumer_secret = \"QbZOYfEBOHFi6LiX6BJKsAUa96NRsE4xkM0KdCJ06oDHXrosad\"\n",
    "\n",
    "tweepy_auth = tweepy.OAuthHandler(my_consumer_key, my_consumer_secret)\n",
    "\n",
    "#NOTE: I am not sure if we need to do an access token dance, so far I haven't run into any trouble.\n",
    "#tweepy_auth.set_access_token(access_token, access_token_secret)\n",
    "\n",
    "\n",
    "my_api = tweepy.API(tweepy_auth)"
   ]
  },
  {
   "cell_type": "code",
   "execution_count": 14,
   "metadata": {},
   "outputs": [
    {
     "data": {
      "text/plain": [
       "User(_api=<tweepy.api.API object at 0x00000218F994BCC0>, _json={'id': 44196397, 'id_str': '44196397', 'name': 'Elon Musk', 'screen_name': 'elonmusk', 'location': '', 'profile_location': None, 'description': '', 'url': None, 'entities': {'description': {'urls': []}}, 'protected': False, 'followers_count': 29335275, 'friends_count': 80, 'listed_count': 52014, 'created_at': 'Tue Jun 02 20:12:29 +0000 2009', 'favourites_count': 4232, 'utc_offset': None, 'time_zone': None, 'geo_enabled': False, 'verified': True, 'statuses_count': 9264, 'lang': None, 'status': {'created_at': 'Fri Nov 15 19:02:17 +0000 2019', 'id': 1195416750961106944, 'id_str': '1195416750961106944', 'text': 'Innovation comes in many ways https://t.co/3plylbd1eZ', 'truncated': False, 'entities': {'hashtags': [], 'symbols': [], 'user_mentions': [], 'urls': [{'url': 'https://t.co/3plylbd1eZ', 'expanded_url': 'https://twitter.com/casey/status/1195397575089647616', 'display_url': 'twitter.com/casey/status/1…', 'indices': [30, 53]}]}, 'source': '<a href=\"http://twitter.com/download/iphone\" rel=\"nofollow\">Twitter for iPhone</a>', 'in_reply_to_status_id': None, 'in_reply_to_status_id_str': None, 'in_reply_to_user_id': None, 'in_reply_to_user_id_str': None, 'in_reply_to_screen_name': None, 'geo': None, 'coordinates': None, 'place': None, 'contributors': None, 'is_quote_status': True, 'quoted_status_id': 1195397575089647616, 'quoted_status_id_str': '1195397575089647616', 'retweet_count': 3780, 'favorite_count': 53492, 'favorited': False, 'retweeted': False, 'possibly_sensitive': False, 'lang': 'en'}, 'contributors_enabled': False, 'is_translator': False, 'is_translation_enabled': False, 'profile_background_color': 'C0DEED', 'profile_background_image_url': 'http://abs.twimg.com/images/themes/theme1/bg.png', 'profile_background_image_url_https': 'https://abs.twimg.com/images/themes/theme1/bg.png', 'profile_background_tile': False, 'profile_image_url': 'http://pbs.twimg.com/profile_images/1192598203679395840/Vyf3YlG5_normal.jpg', 'profile_image_url_https': 'https://pbs.twimg.com/profile_images/1192598203679395840/Vyf3YlG5_normal.jpg', 'profile_banner_url': 'https://pbs.twimg.com/profile_banners/44196397/1556675519', 'profile_link_color': '0084B4', 'profile_sidebar_border_color': 'C0DEED', 'profile_sidebar_fill_color': 'DDEEF6', 'profile_text_color': '333333', 'profile_use_background_image': True, 'has_extended_profile': True, 'default_profile': False, 'default_profile_image': False, 'can_media_tag': None, 'followed_by': None, 'following': None, 'follow_request_sent': None, 'notifications': None, 'translator_type': 'none'}, id=44196397, id_str='44196397', name='Elon Musk', screen_name='elonmusk', location='', profile_location=None, description='', url=None, entities={'description': {'urls': []}}, protected=False, followers_count=29335275, friends_count=80, listed_count=52014, created_at=datetime.datetime(2009, 6, 2, 20, 12, 29), favourites_count=4232, utc_offset=None, time_zone=None, geo_enabled=False, verified=True, statuses_count=9264, lang=None, status=Status(_api=<tweepy.api.API object at 0x00000218F994BCC0>, _json={'created_at': 'Fri Nov 15 19:02:17 +0000 2019', 'id': 1195416750961106944, 'id_str': '1195416750961106944', 'text': 'Innovation comes in many ways https://t.co/3plylbd1eZ', 'truncated': False, 'entities': {'hashtags': [], 'symbols': [], 'user_mentions': [], 'urls': [{'url': 'https://t.co/3plylbd1eZ', 'expanded_url': 'https://twitter.com/casey/status/1195397575089647616', 'display_url': 'twitter.com/casey/status/1…', 'indices': [30, 53]}]}, 'source': '<a href=\"http://twitter.com/download/iphone\" rel=\"nofollow\">Twitter for iPhone</a>', 'in_reply_to_status_id': None, 'in_reply_to_status_id_str': None, 'in_reply_to_user_id': None, 'in_reply_to_user_id_str': None, 'in_reply_to_screen_name': None, 'geo': None, 'coordinates': None, 'place': None, 'contributors': None, 'is_quote_status': True, 'quoted_status_id': 1195397575089647616, 'quoted_status_id_str': '1195397575089647616', 'retweet_count': 3780, 'favorite_count': 53492, 'favorited': False, 'retweeted': False, 'possibly_sensitive': False, 'lang': 'en'}, created_at=datetime.datetime(2019, 11, 15, 19, 2, 17), id=1195416750961106944, id_str='1195416750961106944', text='Innovation comes in many ways https://t.co/3plylbd1eZ', truncated=False, entities={'hashtags': [], 'symbols': [], 'user_mentions': [], 'urls': [{'url': 'https://t.co/3plylbd1eZ', 'expanded_url': 'https://twitter.com/casey/status/1195397575089647616', 'display_url': 'twitter.com/casey/status/1…', 'indices': [30, 53]}]}, source='Twitter for iPhone', source_url='http://twitter.com/download/iphone', in_reply_to_status_id=None, in_reply_to_status_id_str=None, in_reply_to_user_id=None, in_reply_to_user_id_str=None, in_reply_to_screen_name=None, geo=None, coordinates=None, place=None, contributors=None, is_quote_status=True, quoted_status_id=1195397575089647616, quoted_status_id_str='1195397575089647616', retweet_count=3780, favorite_count=53492, favorited=False, retweeted=False, possibly_sensitive=False, lang='en'), contributors_enabled=False, is_translator=False, is_translation_enabled=False, profile_background_color='C0DEED', profile_background_image_url='http://abs.twimg.com/images/themes/theme1/bg.png', profile_background_image_url_https='https://abs.twimg.com/images/themes/theme1/bg.png', profile_background_tile=False, profile_image_url='http://pbs.twimg.com/profile_images/1192598203679395840/Vyf3YlG5_normal.jpg', profile_image_url_https='https://pbs.twimg.com/profile_images/1192598203679395840/Vyf3YlG5_normal.jpg', profile_banner_url='https://pbs.twimg.com/profile_banners/44196397/1556675519', profile_link_color='0084B4', profile_sidebar_border_color='C0DEED', profile_sidebar_fill_color='DDEEF6', profile_text_color='333333', profile_use_background_image=True, has_extended_profile=True, default_profile=False, default_profile_image=False, can_media_tag=None, followed_by=None, following=False, follow_request_sent=None, notifications=None, translator_type='none')"
      ]
     },
     "execution_count": 14,
     "metadata": {},
     "output_type": "execute_result"
    }
   ],
   "source": [
    "# get an elon musk user object.\n",
    "tw_elon = my_api.get_user('elonmusk')\n",
    "tw_elon"
   ]
  },
  {
   "cell_type": "code",
   "execution_count": null,
   "metadata": {},
   "outputs": [],
   "source": []
  }
 ],
 "metadata": {
  "kernelspec": {
   "display_name": "Python 3",
   "language": "python",
   "name": "python3"
  },
  "language_info": {
   "codemirror_mode": {
    "name": "ipython",
    "version": 3
   },
   "file_extension": ".py",
   "mimetype": "text/x-python",
   "name": "python",
   "nbconvert_exporter": "python",
   "pygments_lexer": "ipython3",
   "version": "3.7.3"
  }
 },
 "nbformat": 4,
 "nbformat_minor": 2
}
